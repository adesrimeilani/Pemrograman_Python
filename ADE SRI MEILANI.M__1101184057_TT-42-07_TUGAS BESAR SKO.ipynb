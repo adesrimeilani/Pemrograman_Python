{
  "nbformat": 4,
  "nbformat_minor": 0,
  "metadata": {
    "colab": {
      "name": "ADE SRI MEILANI M._1101184057_TT-42-07_TUGAS BESAR SKO.ipynb",
      "provenance": [],
      "authorship_tag": "ABX9TyN/7i/RY67SMc4fK8Ma6Pjy",
      "include_colab_link": true
    },
    "kernelspec": {
      "name": "python3",
      "display_name": "Python 3"
    }
  },
  "cells": [
    {
      "cell_type": "markdown",
      "metadata": {
        "id": "view-in-github",
        "colab_type": "text"
      },
      "source": [
        "<a href=\"https://colab.research.google.com/github/adesrimeilani/Pemrograman_Python/blob/main/ADE%20SRI%20MEILANI.M__1101184057_TT-42-07_TUGAS%20BESAR%20SKO.ipynb\" target=\"_parent\"><img src=\"https://colab.research.google.com/assets/colab-badge.svg\" alt=\"Open In Colab\"/></a>"
      ]
    },
    {
      "cell_type": "markdown",
      "metadata": {
        "id": "U1VAUcb9mccR"
      },
      "source": [
        "Nama : Ade Sri Meilani M.\r\n",
        "\r\n",
        "Nim : 1101184057\r\n",
        "\r\n",
        "Kelas : TT-42-07\r\n",
        "\r\n",
        "Skenario Perancangan FTTB\r\n",
        "\r\n",
        "Sentral - ODC - ONU - ODP - Roset. Hotel Claro Makassar memiliki 16 lantai, setiap lantai terdapat 10 kamar. Dengan rencana tersebut saya akan menggunakan 4 konektor dan 2 spliter, dengan spliter 1:64 dengan redaman 18.5 dB untuk ONU ke ODP dan spliter 1:32 dengan redaman 16 dB untuk ODP ke Roset. saya menggunakan fiber jenis G652D dengan panjang gelombang 1550 nm dengan redaman 0.2 dB/Km. Selain itu, dengan jumlah konektor terdapat 4 dan splitter 2, maka splicer ada 6 buah yang memiliki redaman 0.2 db.\r\n",
        "\r\n",
        "\r\n",
        "\r\n",
        "\r\n",
        "\r\n",
        "\r\n",
        "\r\n"
      ]
    },
    {
      "cell_type": "code",
      "metadata": {
        "id": "gv6ugRTbokl7"
      },
      "source": [
        "import math as m\r\n",
        "import matplotlib.pyplot as plt\r\n",
        "import numpy as np"
      ],
      "execution_count": 3,
      "outputs": []
    },
    {
      "cell_type": "code",
      "metadata": {
        "id": "HdZEI6Vqo4wU"
      },
      "source": [
        "#Converter\r\n",
        "NtL = lambda x : 10 * np.log10(x)\r\n",
        "LtN = lambda x : 10**(x/10)\r\n",
        "\r\n",
        "#Parameter SNR\r\n",
        "R = 0.85 #Responsivitas (A/W)\r\n",
        "SM = 6   #Safety Margin (dB)\r\n",
        "M = -0.23 #Tambahan daya sinyal APD (dB)\r\n",
        "q = 1.6*10**-19\r\n",
        "id = 90*10**-9 #arus gelap (A)\r\n",
        "B = 8*10**9 #Bandwith (Hz)\r\n",
        "F = 1 #F(M), Faktor Gain\r\n",
        "K = 1.38*10**-23\r\n",
        "Teff = 300 #Kelvin\r\n",
        "RL = 50 #Ekuivalen Resistansi (Ohm)\r\n",
        "\r\n",
        "#Parameter Pr\r\n",
        "#jarak dari sentral ke ONU = 20 km\r\n",
        "#jarak dari ONU ke Roset = <500 m --> 7*16 = 112 m \r\n",
        "#jarak total = 20000 + 122 = 20112 m\r\n",
        "\r\n",
        "d = np.arange(0.112,20.113,1) #Jarak (km)\r\n",
        "L_fiber = 0.2 #0.2 #Loss dari fiber berdasarkan jenis G625D (dB)  \r\n",
        "N_splicer = 6 #Jumlah Splicer\r\n",
        "L_splicer = 0.2 #Loss dari splicer (db)\r\n",
        "N_connector = 4 #Jumlah Konektor\r\n",
        "L_connector = 0.3 #Loss dari konektor (dB)\r\n",
        "L_splitter = 16 + 18.5 #loss dari splitter (dB) diambil redaman yang paling kecil, milik 1:32\r\n",
        "Pt = 3 #Daya tx (dBm)"
      ],
      "execution_count": 4,
      "outputs": []
    },
    {
      "cell_type": "code",
      "metadata": {
        "colab": {
          "base_uri": "https://localhost:8080/"
        },
        "id": "APbzsLyj7poy",
        "outputId": "6ff11d85-5ea6-425b-835f-eedb216a7c23"
      },
      "source": [
        "#RUMUS PR\r\n",
        "def P_receive():\r\n",
        "  #Pr,Pt (dBm)\r\n",
        "  #L_fiber,N_splitter,L_splicer,N_connector,L_connector,L_splitter (dB)\r\n",
        "\r\n",
        "  hambatan_fiber = d * L_fiber\r\n",
        "  hambatan_splicer = N_splicer * L_splicer\r\n",
        "  hambatan_connector = N_connector * L_connector\r\n",
        "\r\n",
        "  alfa_total = hambatan_fiber + hambatan_splicer + hambatan_connector + L_splitter + SM\r\n",
        "  Pr = Pt - alfa_total\r\n",
        "  return Pr\r\n",
        "\r\n",
        "Pr = P_receive()\r\n",
        "print('Daya Terima = ', Pr)"
      ],
      "execution_count": 5,
      "outputs": [
        {
          "output_type": "stream",
          "text": [
            "Daya Terima =  [-39.9224 -40.1224 -40.3224 -40.5224 -40.7224 -40.9224 -41.1224 -41.3224\n",
            " -41.5224 -41.7224 -41.9224 -42.1224 -42.3224 -42.5224 -42.7224 -42.9224\n",
            " -43.1224 -43.3224 -43.5224 -43.7224 -43.9224]\n"
          ],
          "name": "stdout"
        }
      ]
    },
    {
      "cell_type": "code",
      "metadata": {
        "colab": {
          "base_uri": "https://localhost:8080/"
        },
        "id": "Jxci2NyF7yX1",
        "outputId": "eafe8a5e-8854-48c2-b900-adecf708b3f7"
      },
      "source": [
        "#Arus Primer\r\n",
        "def arus_primer():\r\n",
        "  Pr_num = LtN(Pr)\r\n",
        "  ip = Pr_num * R\r\n",
        "  return ip\r\n",
        "ip = arus_primer()\r\n",
        "print(\"Ip = \", ip)"
      ],
      "execution_count": 6,
      "outputs": [
        {
          "output_type": "stream",
          "text": [
            "Ip =  [8.65324352e-05 8.26378340e-05 7.89185188e-05 7.53666004e-05\n",
            " 7.19745446e-05 6.87351565e-05 6.56415648e-05 6.26872078e-05\n",
            " 5.98658186e-05 5.71714130e-05 5.45982755e-05 5.21409483e-05\n",
            " 4.97942191e-05 4.75531100e-05 4.54128675e-05 4.33689518e-05\n",
            " 4.14170274e-05 3.95529541e-05 3.77727780e-05 3.60727229e-05\n",
            " 3.44491829e-05]\n"
          ],
          "name": "stdout"
        }
      ]
    },
    {
      "cell_type": "code",
      "metadata": {
        "colab": {
          "base_uri": "https://localhost:8080/"
        },
        "id": "y_1q2-d777BP",
        "outputId": "2b454759-dd68-4f95-f8de-b90289f068dc"
      },
      "source": [
        "#Signal Power\r\n",
        "def signal_power():\r\n",
        "  Is_kuadrat = (ip*M)**2\r\n",
        "  return Is_kuadrat\r\n",
        "Is_kuadrat = signal_power()\r\n",
        "print('Is^2 = ', Is_kuadrat)"
      ],
      "execution_count": 7,
      "outputs": [
        {
          "output_type": "stream",
          "text": [
            "Is^2 =  [3.96107918e-10 3.61254714e-10 3.29468215e-10 3.00478584e-10\n",
            " 2.74039725e-10 2.49927200e-10 2.27936315e-10 2.07880390e-10\n",
            " 1.89589169e-10 1.72907377e-10 1.57693402e-10 1.43818092e-10\n",
            " 1.31163659e-10 1.19622679e-10 1.09097180e-10 9.94978104e-11\n",
            " 9.07430816e-11 8.27586740e-11 7.54768077e-11 6.88356668e-11\n",
            " 6.27788742e-11]\n"
          ],
          "name": "stdout"
        }
      ]
    },
    {
      "cell_type": "code",
      "metadata": {
        "colab": {
          "base_uri": "https://localhost:8080/"
        },
        "id": "IipKEt9S8Bfo",
        "outputId": "af9c43f5-e3f7-45c7-a278-fbb601e930e4"
      },
      "source": [
        "#RUMUS SNR\r\n",
        "def SNR():\r\n",
        "  BDC = 2*q*id*B*(M**2)*F #Dark Current (Numerik)\r\n",
        "  SN = 2*q*ip*B*(M**2)*F #Shot Noise (Numerik)\r\n",
        "  NT = (4*K*Teff*B)/RL #Noise Thermal (Numerik)\r\n",
        "  Signal = Is_kuadrat # (Numerik)\r\n",
        "  Noise = BDC + SN + NT # (Numerik)\r\n",
        "\r\n",
        "  SNR = Signal / Noise\r\n",
        "  SNR_dBm = NtL(SNR)\r\n",
        "  return SNR_dBm\r\n",
        "\r\n",
        "SNR = SNR()\r\n",
        "print(SNR)"
      ],
      "execution_count": 8,
      "outputs": [
        {
          "output_type": "stream",
          "text": [
            "[21.7271467  21.32800747 20.92882966 20.52961499 20.13036511 19.73108158\n",
            " 19.33176592 18.93241956 18.53304388 18.13364017 17.73420971 17.33475369\n",
            " 16.93527324 16.53576947 16.13624341 15.73669608 15.33712841 14.93754133\n",
            " 14.5379357  14.13831235 13.73867209]\n"
          ],
          "name": "stdout"
        }
      ]
    },
    {
      "cell_type": "code",
      "metadata": {
        "colab": {
          "base_uri": "https://localhost:8080/"
        },
        "id": "GDAifQQ_8HhR",
        "outputId": "ddfdc1b3-37cb-4072-e25d-4c4ceed04306"
      },
      "source": [
        "#RUMUS Q\r\n",
        "def Q_rumus():\r\n",
        "  Q_rumus = 0.5*(10**(SNR/20))\r\n",
        "  return Q_rumus\r\n",
        "Q = Q_rumus()\r\n",
        "print(Q)"
      ],
      "execution_count": 9,
      "outputs": [
        {
          "output_type": "stream",
          "text": [
            "[6.09996495 5.82599863 5.56431218 5.31435735 5.07561018 4.84756994\n",
            " 4.6297581  4.4217174  4.22301086 4.03322094 3.85194866 3.6788128\n",
            " 3.5134491  3.35550954 3.20466159 3.06058756 2.92298391 2.79156067\n",
            " 2.66604079 2.5461596  2.43166424]\n"
          ],
          "name": "stdout"
        }
      ]
    },
    {
      "cell_type": "code",
      "metadata": {
        "colab": {
          "base_uri": "https://localhost:8080/"
        },
        "id": "X_G8QUa88PBm",
        "outputId": "107cc45a-7b74-46c6-c1f0-ac74496c3b1f"
      },
      "source": [
        "#RUMUS BER\r\n",
        "pengkali_list = []\r\n",
        "def BER_rumus():\r\n",
        "  akar = 1/(Q * m.sqrt(2 * m.pi))\r\n",
        "  for i in range(len(Q)):\r\n",
        "    pengkali = m.exp(-(Q[i]**2)/2)\r\n",
        "    pengkali_list.append(pengkali)\r\n",
        "  BER = (1/akar)*(pengkali_list)\r\n",
        "  return BER\r\n",
        "BER = BER_rumus()\r\n",
        "print(BER)"
      ],
      "execution_count": 10,
      "outputs": [
        {
          "output_type": "stream",
          "text": [
            "[1.27192439e-07 6.22289106e-07 2.63804330e-06 9.81256955e-06\n",
            " 3.23944300e-05 9.59147214e-05 2.57140767e-04 6.29663081e-04\n",
            " 1.41953848e-03 2.96780773e-03 5.79223799e-03 1.06169534e-02\n",
            " 1.83775484e-02 3.01919494e-02 4.72934759e-02 7.09306489e-02\n",
            " 1.02245964e-01 1.42150897e-01 1.91215601e-01 2.49589022e-01\n",
            " 3.16959566e-01]\n"
          ],
          "name": "stdout"
        }
      ]
    },
    {
      "cell_type": "code",
      "metadata": {
        "colab": {
          "base_uri": "https://localhost:8080/",
          "height": 851
        },
        "id": "aCRj8lxU8Rjf",
        "outputId": "b272422e-afb6-46b0-f2cf-1ef958979646"
      },
      "source": [
        "#GRAFIK\r\n",
        "def grafik_1():\r\n",
        "  plt.figure()\r\n",
        "  plt.plot(d,SNR,'r')\r\n",
        "  plt.title('Perbandingan Jarak dengan SNR')\r\n",
        "  plt.xlabel('Jarak (Km)')\r\n",
        "  plt.ylabel('SNR (dB)')\r\n",
        "  plt.show()\r\n",
        "\r\n",
        "def grafik_2():\r\n",
        "  plt.figure()\r\n",
        "  plt.plot(d,Q,'g')\r\n",
        "  plt.title('Perbandingan Jarak dengan Q')\r\n",
        "  plt.xlabel('Jarak (Km)')\r\n",
        "  plt.ylabel('Q')\r\n",
        "  plt.show()\r\n",
        "\r\n",
        "def grafik_3():\r\n",
        "  plt.figure()\r\n",
        "  plt.plot(d,BER,'b')\r\n",
        "  plt.title('Perbandingan Jarak dengan BER')\r\n",
        "  plt.xlabel('Jarak (Km)')\r\n",
        "  plt.ylabel('BER')\r\n",
        "  plt.show()\r\n",
        "\r\n",
        "grafik_1()\r\n",
        "grafik_2()\r\n",
        "grafik_3()"
      ],
      "execution_count": 11,
      "outputs": [
        {
          "output_type": "display_data",
          "data": {
            "image/png": "[encoded data removed]",
            "text/plain": [
              "<Figure size 432x288 with 1 Axes>"
            ]
          },
          "metadata": {
            "tags": [],
            "needs_background": "light"
          }
        },
        {
          "output_type": "display_data",
          "data": {
            "image/png": "[encoded data removed]",
            "text/plain": [
              "<Figure size 432x288 with 1 Axes>"
            ]
          },
          "metadata": {
            "tags": [],
            "needs_background": "light"
          }
        },
        {
          "output_type": "display_data",
          "data": {
            "image/png": "[encoded data removed]",
            "text/plain": [
              "<Figure size 432x288 with 1 Axes>"
            ]
          },
          "metadata": {
            "tags": [],
            "needs_background": "light"
          }
        }
      ]
    }
  ]
}