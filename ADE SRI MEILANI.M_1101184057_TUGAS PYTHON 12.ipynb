{
  "nbformat": 4,
  "nbformat_minor": 0,
  "metadata": {
    "colab": {
      "name": "ADE SRI MEILANI.M_1101184057_TUGAS PYTHON 12.ipynb",
      "provenance": [],
      "authorship_tag": "ABX9TyPirJf9sesB5lkdgKc4JyXs",
      "include_colab_link": true
    },
    "kernelspec": {
      "name": "python3",
      "display_name": "Python 3"
    }
  },
  "cells": [
    {
      "cell_type": "markdown",
      "metadata": {
        "id": "view-in-github",
        "colab_type": "text"
      },
      "source": [
        "<a href=\"https://colab.research.google.com/github/adesrimeilani/Pemrograman_Python/blob/main/ADE%20SRI%20MEILANI.M_1101184057_TUGAS%20PYTHON%2012.ipynb\" target=\"_parent\"><img src=\"https://colab.research.google.com/assets/colab-badge.svg\" alt=\"Open In Colab\"/></a>"
      ]
    },
    {
      "cell_type": "markdown",
      "metadata": {
        "id": "IaVS3U5iBy6O"
      },
      "source": [
        "NAMA : ADE SRI MEILANI. M\r\n",
        "\r\n",
        "\r\n",
        "NIM  : 1101184057\r\n",
        "\r\n",
        "KELAS : TT-43-G2\r\n",
        "\r\n",
        "                                    TUGAS PYTHON 12:\r\n",
        "                                    \r\n",
        "\r\n",
        "\r\n",
        "\r\n",
        "\r\n",
        "\r\n",
        "\r\n",
        "\r\n",
        "\r\n",
        "\r\n",
        "\r\n",
        "\r\n",
        "                                           \r\n"
      ]
    },
    {
      "cell_type": "code",
      "metadata": {
        "id": "EG8x5GHX8dCX"
      },
      "source": [
        "import numpy as np"
      ],
      "execution_count": 18,
      "outputs": []
    },
    {
      "cell_type": "code",
      "metadata": {
        "colab": {
          "base_uri": "https://localhost:8080/"
        },
        "id": "ciPWhH8lAxa_",
        "outputId": "53594b9e-fa84-48ac-c787-3b2a94b31fd1"
      },
      "source": [
        "fc=int(input(\"Masukkan nilai fc (300 - 2000 Mhz): \"))\r\n",
        "hT=int(input(\"Masukkan nilai hT (1-40 meter): \"))\r\n",
        "hR=int(input(\"Masukkan nilai hR (1-30 meter): \"))\r\n",
        "d=int(input(\"Masukkan nilai d (dalam km): \"))\r\n",
        "tipe_area=input(\"Masukkan tipe area('Urban', 'Suburban', 'Open'): \")"
      ],
      "execution_count": 19,
      "outputs": [
        {
          "output_type": "stream",
          "text": [
            "Masukkan nilai fc (300 - 2000 Mhz): 500000000\n",
            "Masukkan nilai hT (1-40 meter): 20\n",
            "Masukkan nilai hR (1-30 meter): 20\n",
            "Masukkan nilai d (dalam km): 10\n",
            "Masukkan tipe area('Urban', 'Suburban', 'Open'): Urban\n"
          ],
          "name": "stdout"
        }
      ]
    },
    {
      "cell_type": "code",
      "metadata": {
        "id": "Jyz4QEcR_pTm"
      },
      "source": [
        "NtL = lambda x: 10*np.log10(x)"
      ],
      "execution_count": 20,
      "outputs": []
    },
    {
      "cell_type": "code",
      "metadata": {
        "colab": {
          "base_uri": "https://localhost:8080/"
        },
        "id": "gG9CF4Tx_zk3",
        "outputId": "3661922a-4415-4b8b-ffca-8f77231b0d9c"
      },
      "source": [
        "\r\n",
        "def syaratFC(fc):\r\n",
        "  if fc<1500000000 and fc>=400000000:\r\n",
        "    C1,C2 = 69.55, 26.16\r\n",
        "  if fc<=2000000000 and fc>= 1500000000:\r\n",
        "    C1,C2 = 46.3, 33.9\r\n",
        "  return C1,C2\r\n",
        "syaratFC(fc)"
      ],
      "execution_count": 21,
      "outputs": [
        {
          "output_type": "execute_result",
          "data": {
            "text/plain": [
              "(69.55, 26.16)"
            ]
          },
          "metadata": {
            "tags": []
          },
          "execution_count": 21
        }
      ]
    },
    {
      "cell_type": "code",
      "metadata": {
        "colab": {
          "base_uri": "https://localhost:8080/"
        },
        "id": "KYHUTeTh_9HM",
        "outputId": "58f110af-9efd-4e16-817e-4a7566bee621"
      },
      "source": [
        "def tipearea(tipe_area, fc):\r\n",
        "  if tipe_area == \"Urban\" :\r\n",
        "    Cm = 0\r\n",
        "  if tipe_area == \"Suburban\" :\r\n",
        "    Cm = -2*((np.log10(fc/28))**2) - 5.4\r\n",
        "  if tipe_area == \"Open\":\r\n",
        "    Cm = -4.78*((np.log10(fc))**2) + 18.33*np.log10(fc) - 40.94\r\n",
        "  return Cm\r\n",
        "tipearea(tipe_area, fc)"
      ],
      "execution_count": 22,
      "outputs": [
        {
          "output_type": "execute_result",
          "data": {
            "text/plain": [
              "0"
            ]
          },
          "metadata": {
            "tags": []
          },
          "execution_count": 22
        }
      ]
    },
    {
      "cell_type": "code",
      "metadata": {
        "id": "zBIYihUSAIHn"
      },
      "source": [
        "def carinilaia (hR, fc):\r\n",
        "  a_hR = ((1.1*np.log10(fc))-0.7)*hR - ((1.56*np.log10(fc))-0.8)\r\n",
        "  return a_hR\r\n",
        "#carinilaia(hR, fc), tipearea(tipe_area, fc)"
      ],
      "execution_count": 23,
      "outputs": []
    },
    {
      "cell_type": "code",
      "metadata": {
        "id": "9560UGQuAKH-"
      },
      "source": [
        "def pathloss (fc,hT,d):\r\n",
        "  C1,C2 = syaratFC(fc)\r\n",
        "  Cm = tipearea(tipe_area, fc)\r\n",
        "  a_hR = carinilaia(hR, fc)\r\n",
        "  LP = C1 + C2*np.log10(fc) - 13.83*np.log10(hT) - a_hR + (44.9 - 6.55*np.log10(hT))*np.log(d) + Cm\r\n",
        "  return LP"
      ],
      "execution_count": 24,
      "outputs": []
    },
    {
      "cell_type": "code",
      "metadata": {
        "colab": {
          "base_uri": "https://localhost:8080/"
        },
        "id": "FVKWfipGASmt",
        "outputId": "ca3eca14-3349-4d0a-9308-39b378e491f7"
      },
      "source": [
        "#Blum dalam dB\r\n",
        "LP = pathloss(fc,hT,d)\r\n",
        "LpdB = NtL(LP)\r\n",
        "print (\"Path Loss dalam dB = \", LpdB, \"dB\")\r\n",
        "print (\"Path Loss dalam Numerik = \", LP)\r\n",
        "\r\n",
        "\r\n",
        "#Sudah dalam dB\r\n",
        "LP = pathloss(fc,hT,d)\r\n",
        "print(\"\\nPath Loss dalam dB = \", LP, \"dB\")"
      ],
      "execution_count": 25,
      "outputs": [
        {
          "output_type": "stream",
          "text": [
            "Path Loss dalam dB =  22.972764743144047 dB\n",
            "Path Loss dalam Numerik =  198.27888786842317\n",
            "\n",
            "Path Loss dalam dB =  198.27888786842317 dB\n"
          ],
          "name": "stdout"
        }
      ]
    }
  ]
}