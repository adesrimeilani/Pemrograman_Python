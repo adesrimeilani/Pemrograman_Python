{
  "nbformat": 4,
  "nbformat_minor": 0,
  "metadata": {
    "colab": {
      "name": "ADE SRI MEILANI M._1101184057_TT-42-07_TUGAS BESAR SKO.ipynb",
      "provenance": [],
      "authorship_tag": "ABX9TyOOadl4b1Abggz+qjcGAmMX",
      "include_colab_link": true
    },
    "kernelspec": {
      "name": "python3",
      "display_name": "Python 3"
    }
  },
  "cells": [
    {
      "cell_type": "markdown",
      "metadata": {
        "id": "view-in-github",
        "colab_type": "text"
      },
      "source": [
        "<a href=\"https://colab.research.google.com/github/adesrimeilani/Pemrograman_Python/blob/main/ADE%20SRI%20MEILANI.%20M__1101184057_TT-42-07_TUGAS%20BESAR%20SKO.ipynb\" target=\"_parent\"><img src=\"https://colab.research.google.com/assets/colab-badge.svg\" alt=\"Open In Colab\"/></a>"
      ]
    },
    {
      "cell_type": "markdown",
      "metadata": {
        "id": "U1VAUcb9mccR"
      },
      "source": [
        "Nama : Ade Sri Meilani M.\r\n",
        "\r\n",
        "Nim : 1101184057\r\n",
        "\r\n",
        "Kelas : TT-42-07\r\n",
        "\r\n",
        "Skenario Perancangan FTTB\r\n",
        "\r\n",
        "Jadi, skenario perancangan FTTB yang akan saya buat yaitu dari Sentral kemudian ke ODC lalu ke ONU lanjut ke ODP dan yang terakhir ke Roset. Di kota Makassar terdapat salah satu Hotel Claro Makassar, hotel ini memiliki 16 lantai, setiap lantai terdapat 10 kamar. Jadi, rencangan ini saya akan menggunakan Jenis Fiber G652D dengan panjang gelombang 1550 nm dengan redaman 0.2 dB/Km, dan akan menggunakan 4 konektor dan 2 spliter, dengan menggunakan spliter 1:32 dengan redaman 18.5 dB, lanjut untuk ONU ke ODP dengan menggunakan spliter 1:16 dengan redaman 15 dB untuk ODP ke Roset.Selain itu, dengan jumlah konektor terdapat 4 dan spliter 2, maka splicer ada 6 buah yang memiliki redaman 0.2 dB.\r\n",
        "\r\n",
        "\r\n",
        "\r\n",
        "\r\n",
        "\r\n",
        "\r\n",
        "\r\n"
      ]
    },
    {
      "cell_type": "code",
      "metadata": {
        "id": "gv6ugRTbokl7"
      },
      "source": [
        "import math as m\r\n",
        "import matplotlib.pyplot as plt\r\n",
        "import numpy as np"
      ],
      "execution_count": 128,
      "outputs": []
    },
    {
      "cell_type": "code",
      "metadata": {
        "id": "HdZEI6Vqo4wU"
      },
      "source": [
        "#Converter\r\n",
        "NtL = lambda x : 10 * np.log10(x)\r\n",
        "LtN = lambda x : 10**(x/10)\r\n",
        "\r\n",
        "#Parameter SNR\r\n",
        "R = 0.8 \r\n",
        "SM = 6   \r\n",
        "M = -0.23\r\n",
        "q = 1.6*10**-19\r\n",
        "id = 90*10**-9 \r\n",
        "B = 8*10**9 \r\n",
        "F = 1 \r\n",
        "K = 1.38*10**-23\r\n",
        "T = 300 \r\n",
        "RL = 50 \r\n",
        "\r\n",
        "#Parameter Pr\r\n",
        "#jarak dari sentral ke ONU = 20 km\r\n",
        "#jarak dari ONU ke Roset = <500 m --> 5*16 = 80 m \r\n",
        "#jarak total = 20000 + 80 = 20080 m\r\n",
        "\r\n",
        "d = np.arange(0.80,20.081,1) #Jarak (km)\r\n",
        "L_fiber = 0.2 #berdasarkan jenis G625D (dB)  \r\n",
        "N_splicer = 6 #Jumlah Splicer\r\n",
        "L_splicer = 0.2 #Loss dari splicer (db)\r\n",
        "N_connector = 4 #Jumlah Konektor\r\n",
        "L_connector = 0.3 #Loss dari konektor (dB)\r\n",
        "L_splitter = 15 + 18.5 \r\n",
        "Pt = 2 #Daya tx (dBm)"
      ],
      "execution_count": 129,
      "outputs": []
    },
    {
      "cell_type": "code",
      "metadata": {
        "colab": {
          "base_uri": "https://localhost:8080/"
        },
        "id": "APbzsLyj7poy",
        "outputId": "5b04e74e-6c0a-4de5-b503-0dba92d02065"
      },
      "source": [
        "#RUMUS PR\r\n",
        "def P_receive():\r\n",
        "  hambatan_fiber = d * L_fiber\r\n",
        "  hambatan_splicer = N_splicer * L_splicer\r\n",
        "  hambatan_connector = N_connector * L_connector\r\n",
        "\r\n",
        "  alfa_total = hambatan_fiber + hambatan_splicer + hambatan_connector + L_splitter + SM\r\n",
        "  Pr = Pt - alfa_total\r\n",
        "  return Pr\r\n",
        "\r\n",
        "Pr = P_receive()\r\n",
        "print('Daya Terima = ', Pr)"
      ],
      "execution_count": 130,
      "outputs": [
        {
          "output_type": "stream",
          "text": [
            "Daya Terima =  [-40.06 -40.26 -40.46 -40.66 -40.86 -41.06 -41.26 -41.46 -41.66 -41.86\n",
            " -42.06 -42.26 -42.46 -42.66 -42.86 -43.06 -43.26 -43.46 -43.66 -43.86]\n"
          ],
          "name": "stdout"
        }
      ]
    },
    {
      "cell_type": "code",
      "metadata": {
        "colab": {
          "base_uri": "https://localhost:8080/"
        },
        "id": "Jxci2NyF7yX1",
        "outputId": "e015450b-f7d3-4361-9de7-aec443f0edb3"
      },
      "source": [
        "#Arus Primer\r\n",
        "def arus_primer():\r\n",
        "  Pr_num = LtN(Pr)\r\n",
        "  ip = Pr_num * R\r\n",
        "  return ip\r\n",
        "ip = arus_primer()\r\n",
        "print(\"Ip = \", ip)"
      ],
      "execution_count": 131,
      "outputs": [
        {
          "output_type": "stream",
          "text": [
            "Ip =  [7.89023589e-05 7.53511677e-05 7.19598065e-05 6.87210817e-05\n",
            " 6.56281235e-05 6.26743714e-05 5.98535600e-05 5.71597061e-05\n",
            " 5.45870955e-05 5.21302715e-05 4.97840228e-05 4.75433727e-05\n",
            " 4.54035684e-05 4.33600712e-05 4.14085466e-05 3.95448550e-05\n",
            " 3.77650433e-05 3.60653364e-05 3.44421288e-05 3.28919777e-05]\n"
          ],
          "name": "stdout"
        }
      ]
    },
    {
      "cell_type": "code",
      "metadata": {
        "colab": {
          "base_uri": "https://localhost:8080/"
        },
        "id": "y_1q2-d777BP",
        "outputId": "1a1c5175-5794-4d09-fbdc-e8bbefa78d0d"
      },
      "source": [
        "#Signal Power\r\n",
        "def signal_power():\r\n",
        "  Is_kuadrat = (ip*M)**2\r\n",
        "  return Is_kuadrat\r\n",
        "Is_kuadrat = signal_power()\r\n",
        "print('Is^2 = ', Is_kuadrat)"
      ],
      "execution_count": 132,
      "outputs": [
        {
          "output_type": "stream",
          "text": [
            "Is^2 =  [3.29333300e-10 3.00355539e-10 2.73927508e-10 2.49824856e-10\n",
            " 2.27842977e-10 2.07795264e-10 1.89511534e-10 1.72836573e-10\n",
            " 1.57628828e-10 1.43759200e-10 1.31109948e-10 1.19573694e-10\n",
            " 1.09052505e-10 9.94570666e-11 9.07059228e-11 8.27247848e-11\n",
            " 7.54459004e-11 6.88074790e-11 6.27531666e-11 5.72315682e-11]\n"
          ],
          "name": "stdout"
        }
      ]
    },
    {
      "cell_type": "code",
      "metadata": {
        "colab": {
          "base_uri": "https://localhost:8080/"
        },
        "id": "IipKEt9S8Bfo",
        "outputId": "5faec102-a58b-4be4-ad89-fe6aa668f803"
      },
      "source": [
        "#RUMUS SNR\r\n",
        "def SNR():\r\n",
        "  BDC = 2*q*id*B*(M**2)*F #Dark Current (Numerik)\r\n",
        "  SN = 2*q*ip*B*(M**2)*F #Shot Noise (Numerik)\r\n",
        "  NT = (4*K*Teff*B)/RL #Noise Thermal (Numerik)\r\n",
        "  Signal = Is_kuadrat # (Numerik)\r\n",
        "  Noise = BDC + SN + NT # (Numerik)\r\n",
        "\r\n",
        "  SNR = Signal / Noise\r\n",
        "  SNR_dBm = NtL(SNR)\r\n",
        "  return SNR_dBm\r\n",
        "\r\n",
        "SNR = SNR()\r\n",
        "print(SNR)"
      ],
      "execution_count": 133,
      "outputs": [
        {
          "output_type": "stream",
          "text": [
            "[20.92705446 20.52783963 20.12858959 19.72930592 19.32999012 18.93064363\n",
            " 18.53126781 18.13186399 17.73243341 17.33297727 16.93349672 16.53399285\n",
            " 16.1344667  15.73491927 15.33535152 14.93576435 14.53615864 14.13653522\n",
            " 13.73689487 13.33723837]\n"
          ],
          "name": "stdout"
        }
      ]
    },
    {
      "cell_type": "code",
      "metadata": {
        "colab": {
          "base_uri": "https://localhost:8080/"
        },
        "id": "GDAifQQ_8HhR",
        "outputId": "17336d99-2c65-466b-b24f-9ff6bafbcb05"
      },
      "source": [
        "#RUMUS Q\r\n",
        "def Q_rumus():\r\n",
        "  Q_rumus = 0.5*(10**(SNR/20))\r\n",
        "  return Q_rumus\r\n",
        "Q = Q_rumus()\r\n",
        "print(Q)"
      ],
      "execution_count": 134,
      "outputs": [
        {
          "output_type": "stream",
          "text": [
            "[5.56317507 5.31327123 5.07457276 4.84657905 4.62881166 4.42081342\n",
            " 4.22214744 4.03239627 3.851161   3.6780605  3.51273057 3.35482327\n",
            " 3.20400614 3.05996154 2.92238601 2.79098962 2.66549539 2.5456387\n",
            " 2.43116675 2.32183804]\n"
          ],
          "name": "stdout"
        }
      ]
    },
    {
      "cell_type": "code",
      "metadata": {
        "colab": {
          "base_uri": "https://localhost:8080/"
        },
        "id": "X_G8QUa88PBm",
        "outputId": "af2ee935-db3c-440c-ba49-e56d486aa4a5"
      },
      "source": [
        "#RUMUS BER\r\n",
        "pengkali_list = []\r\n",
        "def BER_rumus():\r\n",
        "  akar = 1/(Q * m.sqrt(2 * m.pi))\r\n",
        "  for i in range(len(Q)):\r\n",
        "    pengkali = m.exp(-(Q[i]**2)/2)\r\n",
        "    pengkali_list.append(pengkali)\r\n",
        "  BER = (1/akar)*(pengkali_list)\r\n",
        "  return BER\r\n",
        "BER = BER_rumus()\r\n",
        "print(BER)"
      ],
      "execution_count": 135,
      "outputs": [
        {
          "output_type": "stream",
          "text": [
            "[2.65424342e-06 9.86734905e-06 3.25587801e-05 9.63567997e-05\n",
            " 2.58217065e-04 6.32055471e-04 1.42443206e-03 2.97708548e-03\n",
            " 5.80864863e-03 1.06441972e-02 1.84202288e-02 3.02553587e-02\n",
            " 4.73832169e-02 7.10521310e-02 1.02403841e-01 1.42348533e-01\n",
            " 1.91454636e-01 2.49869103e-01 3.17278269e-01 3.92912520e-01]\n"
          ],
          "name": "stdout"
        }
      ]
    },
    {
      "cell_type": "code",
      "metadata": {
        "colab": {
          "base_uri": "https://localhost:8080/",
          "height": 851
        },
        "id": "aCRj8lxU8Rjf",
        "outputId": "71064e9e-bdd4-402c-e2cb-407bafa64012"
      },
      "source": [
        "#GRAFIK\r\n",
        "def grafik_pertama():\r\n",
        "  plt.figure()\r\n",
        "  plt.plot(d,SNR,'r')\r\n",
        "  plt.title('Perbandingan Jarak dengan SNR')\r\n",
        "  plt.xlabel('Jarak (Km)')\r\n",
        "  plt.ylabel('SNR (dB)')\r\n",
        "  plt.show()\r\n",
        "\r\n",
        "def grafik_kedua():\r\n",
        "  plt.figure()\r\n",
        "  plt.plot(d,Q,'g')\r\n",
        "  plt.title('Perbandingan Jarak dengan Q')\r\n",
        "  plt.xlabel('Jarak (Km)')\r\n",
        "  plt.ylabel('Q')\r\n",
        "  plt.show()\r\n",
        "\r\n",
        "def grafik_ketiga():\r\n",
        "  plt.figure()\r\n",
        "  plt.plot(d,BER,'b')\r\n",
        "  plt.title('Perbandingan Jarak dengan BER')\r\n",
        "  plt.xlabel('Jarak (Km)')\r\n",
        "  plt.ylabel('BER')\r\n",
        "  plt.show()\r\n",
        "\r\n",
        "grafik_pertama()\r\n",
        "grafik_kedua()\r\n",
        "grafik_ketiga()"
      ],
      "execution_count": 136,
      "outputs": [
        {
          "output_type": "display_data",
          "data": {
            "image/png": "[encoded data removed]",
            "text/plain": [
              "<Figure size 432x288 with 1 Axes>"
            ]
          },
          "metadata": {
            "tags": [],
            "needs_background": "light"
          }
        },
        {
          "output_type": "display_data",
          "data": {
            "image/png": "[encoded data removed]",
            "text/plain": [
              "<Figure size 432x288 with 1 Axes>"
            ]
          },
          "metadata": {
            "tags": [],
            "needs_background": "light"
          }
        },
        {
          "output_type": "display_data",
          "data": {
            "image/png": "[encoded data removed]",
            "text/plain": [
              "<Figure size 432x288 with 1 Axes>"
            ]
          },
          "metadata": {
            "tags": [],
            "needs_background": "light"
          }
        }
      ]
    }
  ]
}